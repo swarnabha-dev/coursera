{
 "cells": [
  {
   "cell_type": "markdown",
   "id": "e80723d1-bb84-4110-81f2-6b479583a206",
   "metadata": {},
   "source": [
    "<H1>Data Science Tools and Ecosystem</H1>"
   ]
  },
  {
   "cell_type": "markdown",
   "id": "2a00d6bf-2ca3-4de4-96de-a6305dc3f9c9",
   "metadata": {},
   "source": [
    "In this notebook, Data Science Tools and Ecosystem are summarized."
   ]
  },
  {
   "cell_type": "markdown",
   "id": "ac3674b2-3d70-40b5-a347-ba7988e4eebb",
   "metadata": {},
   "source": [
    "**Objectives:**\n",
    "\n",
    "- List popular languages for Data Science  \n",
    "- Create tables in Markdown  \n",
    "- Identify popular Data Science tools  \n",
    "- Understand development environments used in Data Science  \n",
    "- Gain hands-on practice with Jupyter notebooks  \n"
   ]
  },
  {
   "cell_type": "markdown",
   "id": "b514ea48-ddab-44e8-92ee-9bde945530f6",
   "metadata": {},
   "source": [
    "Some of the popular languages that Data Scientists use are:<br>\n",
    "1.Python<br>\n",
    "2.R<br>\n",
    "3.Java<br>"
   ]
  },
  {
   "cell_type": "markdown",
   "id": "7fe44d69-f707-430c-9720-bef253aad899",
   "metadata": {},
   "source": [
    "Some of the commonly used libraries used by Data Scientists include:<br>\n",
    "1.Pandas<br>\n",
    "2.Numpy<br>\n",
    "2.Scikit-learn\n"
   ]
  },
  {
   "cell_type": "markdown",
   "id": "3712a275-d3e2-48c3-bdb2-08660469faf7",
   "metadata": {},
   "source": [
    "# Exercise 6  \n",
    "\n",
    "| Data Science Tools |\n",
    "|---------------------|\n",
    "| Jupyter Notebook    |\n",
    "| RStudio             |\n",
    "| Apache Zeppelin     |\n"
   ]
  },
  {
   "cell_type": "markdown",
   "id": "495b5ed0-1c73-47e6-a59c-52ba792eff75",
   "metadata": {},
   "source": [
    "<h3>Below are a few examples of evaluating arithmetic expressions in Python</h3>"
   ]
  },
  {
   "cell_type": "code",
   "execution_count": 1,
   "id": "bedb177b-6923-4f77-ba31-c60c21b63095",
   "metadata": {},
   "outputs": [
    {
     "data": {
      "text/plain": [
       "17"
      ]
     },
     "execution_count": 1,
     "metadata": {},
     "output_type": "execute_result"
    }
   ],
   "source": [
    "# This a simple arithmetic expression to mutiply then add integers\n",
    "(3*4)+5"
   ]
  },
  {
   "cell_type": "code",
   "execution_count": 2,
   "id": "44b0447d-e01f-497f-be6f-3b525873dc77",
   "metadata": {},
   "outputs": [
    {
     "data": {
      "text/plain": [
       "3.3333333333333335"
      ]
     },
     "execution_count": 2,
     "metadata": {},
     "output_type": "execute_result"
    }
   ],
   "source": [
    "# This will convert 200 minutes to hours by diving by 60\n",
    "200/60"
   ]
  },
  {
   "cell_type": "markdown",
   "id": "9f32f09d-e956-4fbe-9c4c-834201f4cf7e",
   "metadata": {},
   "source": [
    "<h2>Author</h2>\n",
    "Swarnabha Halder"
   ]
  },
  {
   "cell_type": "code",
   "execution_count": null,
   "id": "0a3c2f45-d373-41c9-98bb-e5154e822479",
   "metadata": {},
   "outputs": [],
   "source": []
  }
 ],
 "metadata": {
  "kernelspec": {
   "display_name": "Python 3 (ipykernel)",
   "language": "python",
   "name": "python3"
  },
  "language_info": {
   "codemirror_mode": {
    "name": "ipython",
    "version": 3
   },
   "file_extension": ".py",
   "mimetype": "text/x-python",
   "name": "python",
   "nbconvert_exporter": "python",
   "pygments_lexer": "ipython3",
   "version": "3.12.8"
  }
 },
 "nbformat": 4,
 "nbformat_minor": 5
}
